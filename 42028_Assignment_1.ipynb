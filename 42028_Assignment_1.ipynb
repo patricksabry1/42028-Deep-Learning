{
  "nbformat": 4,
  "nbformat_minor": 0,
  "metadata": {
    "colab": {
      "name": "42028 - Assignment 1.ipynb",
      "provenance": [],
      "toc_visible": true,
      "authorship_tag": "ABX9TyPj6KB5+SmM4eGvKJ4od5ax",
      "include_colab_link": true
    },
    "kernelspec": {
      "name": "python3",
      "display_name": "Python 3"
    },
    "accelerator": "GPU"
  },
  "cells": [
    {
      "cell_type": "markdown",
      "metadata": {
        "id": "view-in-github",
        "colab_type": "text"
      },
      "source": [
        "<a href=\"https://colab.research.google.com/github/patricksabry1/42028-Deep-Learning/blob/master/42028_Assignment_1.ipynb\" target=\"_parent\"><img src=\"https://colab.research.google.com/assets/colab-badge.svg\" alt=\"Open In Colab\"/></a>"
      ]
    },
    {
      "cell_type": "markdown",
      "metadata": {
        "id": "98IFtxPCAKc1",
        "colab_type": "text"
      },
      "source": [
        "# Data Pre-Processing"
      ]
    },
    {
      "cell_type": "markdown",
      "metadata": {
        "id": "Im8xK9SyaXtL",
        "colab_type": "text"
      },
      "source": [
        "## Load the dataset and store into train/test split variables"
      ]
    },
    {
      "cell_type": "code",
      "metadata": {
        "id": "yP8AgEJLZw-O",
        "colab_type": "code",
        "outputId": "5c2d0714-60e1-4c88-990d-3d3732926a4d",
        "colab": {
          "base_uri": "https://localhost:8080/",
          "height": 68
        }
      },
      "source": [
        "import tensorflow as tf\n",
        "# Load train and test datasets \n",
        "def loadData():\n",
        "    mnist = tf.keras.datasets.mnist\n",
        "    (x_train, y_train), (x_test, y_test) = mnist.load_data()\n",
        "    x_train, x_test = x_train / 255.0, x_test / 255.0\n",
        "\n",
        "    print('X_train shape:', X_train.shape)\n",
        "    print('Number of images in x_train:', X_train.shape[0])\n",
        "    print('Number of images in x_test:', X_test.shape[0])\n",
        "\n",
        "    return (x_train, y_train), (x_test, y_test)"
      ],
      "execution_count": 0,
      "outputs": [
        {
          "output_type": "stream",
          "text": [
            "X_train shape: (60000, 28, 28, 1)\n",
            "Number of images in x_train: 60000\n",
            "Number of images in x_test: 10000\n"
          ],
          "name": "stdout"
        }
      ]
    },
    {
      "cell_type": "markdown",
      "metadata": {
        "id": "zdQVDvCi7JvE",
        "colab_type": "text"
      },
      "source": [
        "## Histogram-of-Oriented Gradient feature"
      ]
    },
    {
      "cell_type": "markdown",
      "metadata": {
        "id": "hSfbeNjY6_7G",
        "colab_type": "text"
      },
      "source": [
        "## Local Binary Patterns feature"
      ]
    },
    {
      "cell_type": "code",
      "metadata": {
        "id": "CFp7tfC78b_j",
        "colab_type": "code",
        "colab": {}
      },
      "source": [
        "from skimage import feature\n",
        "import numpy as np\n",
        "import cv2\n",
        "\n",
        "# Get LBP features for the dataset\n",
        "class LocalBinaryPatterns:\n",
        "\tdef __init__(self, numPoints, radius):\n",
        "\t\t# store the number of points and radius\n",
        "\t\tself.numPoints = numPoints\n",
        "\t\tself.radius = radius\n",
        " \n",
        "\tdef LBPfeatures(self, image, eps=1e-7):\n",
        "\t\t# compute the Local Binary Pattern representation\n",
        "\t\t# of the image, and then use the LBP representation\n",
        "\t\t# to build the histogram of patterns\n",
        "\t\tlbp = feature.local_binary_pattern(image, self.numPoints,\n",
        "\t\t\tself.radius, method=\"uniform\")\n",
        "        # Form the histogram\n",
        "\t\t(hist, _) = np.histogram(lbp.ravel(),\n",
        "\t\t\tbins=np.arange(0, self.numPoints + 3),\n",
        "\t\t\trange=(0, self.numPoints + 2))\n",
        " \n",
        "\t\t# normalize the histogram\n",
        "\t\thist = hist.astype(\"float\")\n",
        "\t\thist /= (hist.sum() + eps)\n",
        " \n",
        "\t\t# return the histogram of Local Binary Patterns\n",
        "\t\treturn hist\n",
        "\n",
        "def getLBPFeatures():\n",
        "    # Create an object of LocalBinaryPatterns class and initial the parameters.\n",
        "    (x_train, y_train), (x_test, y_test) = loadData()\n",
        "    desc = LocalBinaryPatterns(24, 8)\n",
        "    lbp_train = []\n",
        "    lbp_labels_train = []\n",
        "\n",
        "    # loop over the training images\n",
        "    for img_index in range(len(lbp_train)):\n",
        "        # load the train image, and extract LBP features\n",
        "        image = cv2.imread(x_train[img_index])\n",
        "        # convert image to grayscale\n",
        "        grayscale_img = cv2.cvtColor(image, cv2.COLOR_BGR2GRAY) \n",
        "        hist = desc.describe(grayscale_img)\n",
        "\n",
        "        # extract the label from the image path, then update the\n",
        "        # label and data lists\n",
        "        lbp_labels_train.append(y_train[img_index])\n",
        "        lbp_train.append(hist)\n",
        "    \n",
        "    return lbp_labels_train, lbp_train"
      ],
      "execution_count": 0,
      "outputs": []
    },
    {
      "cell_type": "markdown",
      "metadata": {
        "id": "wyyrpvgZADOg",
        "colab_type": "text"
      },
      "source": [
        "# SVM"
      ]
    },
    {
      "cell_type": "code",
      "metadata": {
        "id": "4Go5eot_FNkl",
        "colab_type": "code",
        "colab": {}
      },
      "source": [
        "from sklearn.svm import LinearSVC\n",
        "\n",
        "lbp_labels_train, lbp_train = getLBPFeatures()\n",
        "\n",
        "model = LinearSVC(C=100.0, random_state=42)\n",
        "model.fit(lbp_train, lbp_labels_train)"
      ],
      "execution_count": 0,
      "outputs": []
    },
    {
      "cell_type": "markdown",
      "metadata": {
        "id": "OdHLwLdEaQhk",
        "colab_type": "text"
      },
      "source": [
        "# CNN"
      ]
    },
    {
      "cell_type": "markdown",
      "metadata": {
        "id": "PvHNHo34_eN6",
        "colab_type": "text"
      },
      "source": [
        "## Define & compile neural network + fit on dataset"
      ]
    },
    {
      "cell_type": "code",
      "metadata": {
        "id": "IO_5nzF5Lhqz",
        "colab_type": "code",
        "outputId": "6314cd39-5384-40be-8ab3-465e4c36846c",
        "colab": {
          "base_uri": "https://localhost:8080/",
          "height": 1000
        }
      },
      "source": [
        "# Define CNN model with\n",
        "    # Declare input shape for first layer of CNN\n",
        "    input_shape = (28, 28, 1)\n",
        "model = tf.keras.models.Sequential([\n",
        "  tf.keras.layers.Flatten(input_shape=input_shape),\n",
        "  tf.keras.layers.Dense(128, activation='relu'),\n",
        "  tf.keras.layers.Dropout(0.2),\n",
        "  tf.keras.layers.Dense(10)\n",
        "])\n",
        "\n",
        "loss_fn = tf.keras.losses.SparseCategoricalCrossentropy(from_logits=True)\n",
        "\n",
        "model.compile(optimizer='adam',\n",
        "              loss=loss_fn,\n",
        "              metrics=['accuracy'])\n",
        "model.summary()\n",
        "\n",
        "model.fit(x_train, y_train, epochs=20)\n"
      ],
      "execution_count": 0,
      "outputs": [
        {
          "output_type": "stream",
          "text": [
            "ERROR! Session/line number was not unique in database. History logging moved to new session 59\n",
            "Model: \"sequential_6\"\n",
            "_________________________________________________________________\n",
            "Layer (type)                 Output Shape              Param #   \n",
            "=================================================================\n",
            "flatten_4 (Flatten)          (None, 784)               0         \n",
            "_________________________________________________________________\n",
            "dense_8 (Dense)              (None, 128)               100480    \n",
            "_________________________________________________________________\n",
            "dropout_4 (Dropout)          (None, 128)               0         \n",
            "_________________________________________________________________\n",
            "dense_9 (Dense)              (None, 10)                1290      \n",
            "=================================================================\n",
            "Total params: 101,770\n",
            "Trainable params: 101,770\n",
            "Non-trainable params: 0\n",
            "_________________________________________________________________\n",
            "Epoch 1/20\n",
            "1875/1875 [==============================] - 5s 3ms/step - loss: 0.2931 - accuracy: 0.9151\n",
            "Epoch 2/20\n",
            "1875/1875 [==============================] - 5s 3ms/step - loss: 0.1399 - accuracy: 0.9587\n",
            "Epoch 3/20\n",
            "1875/1875 [==============================] - 5s 3ms/step - loss: 0.1035 - accuracy: 0.9684\n",
            "Epoch 4/20\n",
            "1875/1875 [==============================] - 5s 3ms/step - loss: 0.0866 - accuracy: 0.9730\n",
            "Epoch 5/20\n",
            "1875/1875 [==============================] - 5s 3ms/step - loss: 0.0744 - accuracy: 0.9766\n",
            "Epoch 6/20\n",
            "1875/1875 [==============================] - 5s 3ms/step - loss: 0.0642 - accuracy: 0.9792\n",
            "Epoch 7/20\n",
            "1875/1875 [==============================] - 5s 3ms/step - loss: 0.0573 - accuracy: 0.9816\n",
            "Epoch 8/20\n",
            "1875/1875 [==============================] - 5s 3ms/step - loss: 0.0531 - accuracy: 0.9831\n",
            "Epoch 9/20\n",
            "1875/1875 [==============================] - 5s 3ms/step - loss: 0.0487 - accuracy: 0.9844\n",
            "Epoch 10/20\n",
            "1875/1875 [==============================] - 5s 3ms/step - loss: 0.0419 - accuracy: 0.9864\n",
            "Epoch 11/20\n",
            "1875/1875 [==============================] - 5s 3ms/step - loss: 0.0414 - accuracy: 0.9864\n",
            "Epoch 12/20\n",
            "1875/1875 [==============================] - 5s 3ms/step - loss: 0.0366 - accuracy: 0.9878\n",
            "Epoch 13/20\n",
            "1875/1875 [==============================] - 5s 3ms/step - loss: 0.0369 - accuracy: 0.9879\n",
            "Epoch 14/20\n",
            "1875/1875 [==============================] - 5s 3ms/step - loss: 0.0331 - accuracy: 0.9887\n",
            "Epoch 15/20\n",
            "1875/1875 [==============================] - 5s 3ms/step - loss: 0.0344 - accuracy: 0.9883\n",
            "Epoch 16/20\n",
            "1875/1875 [==============================] - 5s 3ms/step - loss: 0.0309 - accuracy: 0.9894\n",
            "Epoch 17/20\n",
            "1875/1875 [==============================] - 5s 3ms/step - loss: 0.0279 - accuracy: 0.9905\n",
            "Epoch 18/20\n",
            "1875/1875 [==============================] - 5s 3ms/step - loss: 0.0282 - accuracy: 0.9905\n",
            "Epoch 19/20\n",
            "1875/1875 [==============================] - 5s 3ms/step - loss: 0.0274 - accuracy: 0.9901\n",
            "Epoch 20/20\n",
            "1875/1875 [==============================] - 5s 3ms/step - loss: 0.0251 - accuracy: 0.9906\n"
          ],
          "name": "stdout"
        },
        {
          "output_type": "execute_result",
          "data": {
            "text/plain": [
              "<tensorflow.python.keras.callbacks.History at 0x7f184a4c27f0>"
            ]
          },
          "metadata": {
            "tags": []
          },
          "execution_count": 40
        }
      ]
    },
    {
      "cell_type": "markdown",
      "metadata": {
        "id": "hN_KkkXu_oUd",
        "colab_type": "text"
      },
      "source": [
        "## Evaluate trained model on validation data"
      ]
    },
    {
      "cell_type": "code",
      "metadata": {
        "id": "icTh_q7gVE56",
        "colab_type": "code",
        "outputId": "5be27dc8-13a2-4be0-e459-a44ae503a7e6",
        "colab": {
          "base_uri": "https://localhost:8080/",
          "height": 51
        }
      },
      "source": [
        "model.evaluate(x_test,  y_test, verbose=2)\n"
      ],
      "execution_count": 0,
      "outputs": [
        {
          "output_type": "stream",
          "text": [
            "313/313 - 1s - loss: 0.0858 - accuracy: 0.9800\n"
          ],
          "name": "stdout"
        },
        {
          "output_type": "execute_result",
          "data": {
            "text/plain": [
              "[0.08582599461078644, 0.9800000190734863]"
            ]
          },
          "metadata": {
            "tags": []
          },
          "execution_count": 39
        }
      ]
    },
    {
      "cell_type": "markdown",
      "metadata": {
        "id": "phc6N8vmAA89",
        "colab_type": "text"
      },
      "source": [
        "# KNN"
      ]
    }
  ]
}