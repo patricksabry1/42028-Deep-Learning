{
  "nbformat": 4,
  "nbformat_minor": 0,
  "metadata": {
    "colab": {
      "name": "42028 - Assignment 1.ipynb",
      "provenance": [],
      "authorship_tag": "ABX9TyMflxcUkwgEAXu9cH3f3IY9",
      "include_colab_link": true
    },
    "kernelspec": {
      "name": "python3",
      "display_name": "Python 3"
    },
    "accelerator": "GPU"
  },
  "cells": [
    {
      "cell_type": "markdown",
      "metadata": {
        "id": "view-in-github",
        "colab_type": "text"
      },
      "source": [
        "<a href=\"https://colab.research.google.com/github/patricksabry1/42028-Deep-Learning/blob/master/42028_Assignment_1.ipynb\" target=\"_parent\"><img src=\"https://colab.research.google.com/assets/colab-badge.svg\" alt=\"Open In Colab\"/></a>"
      ]
    },
    {
      "cell_type": "markdown",
      "metadata": {
        "id": "98IFtxPCAKc1",
        "colab_type": "text"
      },
      "source": [
        "# Data Pre-Processing"
      ]
    },
    {
      "cell_type": "code",
      "metadata": {
        "id": "Z7saBRtykrzd",
        "colab_type": "code",
        "colab": {
          "base_uri": "https://localhost:8080/",
          "height": 411
        },
        "outputId": "e86b49e2-f941-4f34-d2d6-d77fed4b0cea"
      },
      "source": [
        "%pip install livelossplot\n",
        "import numpy as np\n",
        "import matplotlib.pyplot as plt\n",
        "import seaborn as sns\n",
        "from livelossplot import PlotLossesKerasTF\n",
        "from tqdm import tqdm\n",
        "from skimage import feature\n",
        "from sklearn import svm\n",
        "from sklearn.utils import shuffle\n",
        "from sklearn import metrics\n",
        "from sklearn.metrics import accuracy_score\n",
        "import cv2\n",
        "%matplotlib inline"
      ],
      "execution_count": 1,
      "outputs": [
        {
          "output_type": "stream",
          "text": [
            "Requirement already satisfied: livelossplot in /usr/local/lib/python3.6/dist-packages (0.5.0)\n",
            "Requirement already satisfied: ipython in /usr/local/lib/python3.6/dist-packages (from livelossplot) (5.5.0)\n",
            "Requirement already satisfied: matplotlib; python_version >= \"3.6\" in /usr/local/lib/python3.6/dist-packages (from livelossplot) (3.2.1)\n",
            "Requirement already satisfied: pygments in /usr/local/lib/python3.6/dist-packages (from ipython->livelossplot) (2.1.3)\n",
            "Requirement already satisfied: prompt-toolkit<2.0.0,>=1.0.4 in /usr/local/lib/python3.6/dist-packages (from ipython->livelossplot) (1.0.18)\n",
            "Requirement already satisfied: traitlets>=4.2 in /usr/local/lib/python3.6/dist-packages (from ipython->livelossplot) (4.3.3)\n",
            "Requirement already satisfied: setuptools>=18.5 in /usr/local/lib/python3.6/dist-packages (from ipython->livelossplot) (46.1.3)\n",
            "Requirement already satisfied: pickleshare in /usr/local/lib/python3.6/dist-packages (from ipython->livelossplot) (0.7.5)\n",
            "Requirement already satisfied: decorator in /usr/local/lib/python3.6/dist-packages (from ipython->livelossplot) (4.4.2)\n",
            "Requirement already satisfied: pexpect; sys_platform != \"win32\" in /usr/local/lib/python3.6/dist-packages (from ipython->livelossplot) (4.8.0)\n",
            "Requirement already satisfied: simplegeneric>0.8 in /usr/local/lib/python3.6/dist-packages (from ipython->livelossplot) (0.8.1)\n",
            "Requirement already satisfied: cycler>=0.10 in /usr/local/lib/python3.6/dist-packages (from matplotlib; python_version >= \"3.6\"->livelossplot) (0.10.0)\n",
            "Requirement already satisfied: numpy>=1.11 in /usr/local/lib/python3.6/dist-packages (from matplotlib; python_version >= \"3.6\"->livelossplot) (1.18.2)\n",
            "Requirement already satisfied: pyparsing!=2.0.4,!=2.1.2,!=2.1.6,>=2.0.1 in /usr/local/lib/python3.6/dist-packages (from matplotlib; python_version >= \"3.6\"->livelossplot) (2.4.7)\n",
            "Requirement already satisfied: kiwisolver>=1.0.1 in /usr/local/lib/python3.6/dist-packages (from matplotlib; python_version >= \"3.6\"->livelossplot) (1.2.0)\n",
            "Requirement already satisfied: python-dateutil>=2.1 in /usr/local/lib/python3.6/dist-packages (from matplotlib; python_version >= \"3.6\"->livelossplot) (2.8.1)\n",
            "Requirement already satisfied: six>=1.9.0 in /usr/local/lib/python3.6/dist-packages (from prompt-toolkit<2.0.0,>=1.0.4->ipython->livelossplot) (1.12.0)\n",
            "Requirement already satisfied: wcwidth in /usr/local/lib/python3.6/dist-packages (from prompt-toolkit<2.0.0,>=1.0.4->ipython->livelossplot) (0.1.9)\n",
            "Requirement already satisfied: ipython-genutils in /usr/local/lib/python3.6/dist-packages (from traitlets>=4.2->ipython->livelossplot) (0.2.0)\n",
            "Requirement already satisfied: ptyprocess>=0.5 in /usr/local/lib/python3.6/dist-packages (from pexpect; sys_platform != \"win32\"->ipython->livelossplot) (0.6.0)\n"
          ],
          "name": "stdout"
        },
        {
          "output_type": "stream",
          "text": [
            "/usr/local/lib/python3.6/dist-packages/statsmodels/tools/_testing.py:19: FutureWarning: pandas.util.testing is deprecated. Use the functions in the public API at pandas.testing instead.\n",
            "  import pandas.util.testing as tm\n"
          ],
          "name": "stderr"
        }
      ]
    },
    {
      "cell_type": "code",
      "metadata": {
        "id": "HJNFyEj0kuIU",
        "colab_type": "code",
        "colab": {
          "base_uri": "https://localhost:8080/",
          "height": 34
        },
        "outputId": "d44aea4c-7fb6-42f4-904b-e1ee108d0c25"
      },
      "source": [
        "from google.colab import drive\n",
        "drive.mount('/content/gdrive')"
      ],
      "execution_count": 2,
      "outputs": [
        {
          "output_type": "stream",
          "text": [
            "Drive already mounted at /content/gdrive; to attempt to forcibly remount, call drive.mount(\"/content/gdrive\", force_remount=True).\n"
          ],
          "name": "stdout"
        }
      ]
    },
    {
      "cell_type": "markdown",
      "metadata": {
        "id": "DExPLvU9tmwZ",
        "colab_type": "text"
      },
      "source": [
        "## Load MNIST dataset from gdrive path"
      ]
    },
    {
      "cell_type": "code",
      "metadata": {
        "id": "yP8AgEJLZw-O",
        "colab_type": "code",
        "colab": {}
      },
      "source": [
        "def load_mnist(path, kind='train'):\n",
        "    import os\n",
        "    import gzip\n",
        "    import numpy as np\n",
        "\n",
        "    \"\"\"Load MNIST data from `path`\"\"\"\n",
        "    labels_path = os.path.join(path,\n",
        "                               '%s-labels-idx1-ubyte.gz'\n",
        "                               % kind)\n",
        "    images_path = os.path.join(path,\n",
        "                               '%s-images-idx3-ubyte.gz'\n",
        "                               % kind)\n",
        "\n",
        "    with gzip.open(labels_path, 'rb') as lbpath:\n",
        "        labels = np.frombuffer(lbpath.read(), dtype=np.uint8,\n",
        "                               offset=8)\n",
        "\n",
        "    with gzip.open(images_path, 'rb') as imgpath:\n",
        "        images = np.frombuffer(imgpath.read(), dtype=np.uint8,\n",
        "                               offset=16).reshape(len(labels), 784)\n",
        "\n",
        "    return images, labels"
      ],
      "execution_count": 0,
      "outputs": []
    },
    {
      "cell_type": "code",
      "metadata": {
        "id": "zjjkS6uopUos",
        "colab_type": "code",
        "colab": {
          "base_uri": "https://localhost:8080/",
          "height": 34
        },
        "outputId": "535bcc2e-b67f-40af-f0a1-93c665a67227"
      },
      "source": [
        "cd /content/gdrive/My Drive/42028-DL-CNN-2020/assignment-1/"
      ],
      "execution_count": 4,
      "outputs": [
        {
          "output_type": "stream",
          "text": [
            "/content/gdrive/My Drive/42028-DL-CNN-2020/assignment-1\n"
          ],
          "name": "stdout"
        }
      ]
    },
    {
      "cell_type": "markdown",
      "metadata": {
        "id": "Im8xK9SyaXtL",
        "colab_type": "text"
      },
      "source": [
        "## Load the dataset and store into train/test split variables"
      ]
    },
    {
      "cell_type": "code",
      "metadata": {
        "id": "tdstPRjnohUQ",
        "colab_type": "code",
        "colab": {}
      },
      "source": [
        "def loadData(reshape=True, net=False):\n",
        "    X_train, y_train = load_mnist('/content/gdrive/My Drive/42028-DL-CNN-2020/assignment-1/', kind='train')\n",
        "    X_test, y_test = load_mnist('/content/gdrive/My Drive/42028-DL-CNN-2020/assignment-1/', kind='t10k')\n",
        "\n",
        "    # initialize the label names for MNIST digits\n",
        "    labelNames = [\"0\", \"1\", \"2\", \"3\", \"4\", \"5\", \"6\", \"7\", \"8\", \"9\", \"10\"]\n",
        "\n",
        "    X_norm = []\n",
        "    X_test_norm =[]\n",
        "    if reshape == True and net == True:\n",
        "        X_train = X_train.reshape(-1,28,28,1)\n",
        "        X_test = X_test.reshape(-1,28,28,1)\n",
        "        print(\"Train dataset after reshaping:{}\".format(np.shape(X_train)))\n",
        "        print(\"Test dataset after reshaping :{}\".format(np.shape(X_test)))\n",
        "    elif reshape == True and net == False:\n",
        "        X_train = X_train.reshape(-1,28,28)\n",
        "        X_test = X_test.reshape(-1,28,28)\n",
        "        print(\"Train dataset after reshaping:{}\".format(np.shape(X_train)))\n",
        "        print(\"Test dataset after reshaping :{}\".format(np.shape(X_test)))\n",
        "\n",
        "    return X_train, y_train, X_test, y_test"
      ],
      "execution_count": 0,
      "outputs": []
    },
    {
      "cell_type": "markdown",
      "metadata": {
        "id": "4VJvSbKytVCw",
        "colab_type": "text"
      },
      "source": [
        "## Visualise sample digits"
      ]
    },
    {
      "cell_type": "code",
      "metadata": {
        "id": "ylSnnfx6qn0U",
        "colab_type": "code",
        "colab": {
          "base_uri": "https://localhost:8080/",
          "height": 350
        },
        "outputId": "89a2c3af-ba73-488e-eafb-06cf8d2f8fed"
      },
      "source": [
        "X_train, y_train, X_test, y_test = loadData(net=False)\n",
        "\n",
        "# view few images and print its corresponding label\n",
        "# initialize the label names for MNIST digits\n",
        "labelNames = [\"0\", \"1\", \"2\", \"3\", \"4\", \"5\", \"6\", \"7\", \"8\", \"9\", \"10\"]\n",
        "\n",
        "img_index = 10\n",
        "fig = plt.figure()\n",
        "ax1 = fig.add_subplot(2,2,1)\n",
        "ax1.axis('off')\n",
        "ax1.imshow(X_train[img_index])\n",
        "print(\"Top left image label: \" + str(labelNames[y_train[img_index]]))\n",
        "\n",
        "ax2 = fig.add_subplot(2,2,2)\n",
        "ax2.axis('off')\n",
        "img_index = 1000\n",
        "ax2.imshow(X_train[img_index])\n",
        "print(\"Top right image label: \" + str(labelNames[y_train[img_index]]))\n",
        "\n",
        "ax2 = fig.add_subplot(2,2,3)\n",
        "ax2.axis('off')\n",
        "img_index = 10000\n",
        "ax2.imshow(X_train[img_index])\n",
        "print(\"Bottom left image label: \" + str(labelNames[y_train[img_index]]))\n",
        "\n",
        "ax2 = fig.add_subplot(2,2,4)\n",
        "ax2.axis('off')\n",
        "img_index = 20000\n",
        "ax2.imshow(X_train[img_index])\n",
        "print(\"Bottom right image label: \" + str(labelNames[y_train[img_index]]))"
      ],
      "execution_count": 7,
      "outputs": [
        {
          "output_type": "stream",
          "text": [
            "Train dataset after reshaping:(60000, 28, 28)\n",
            "Test dataset after reshaping :(10000, 28, 28)\n",
            "Top left image label: 3\n",
            "Top right image label: 0\n",
            "Bottom left image label: 3\n",
            "Bottom right image label: 5\n"
          ],
          "name": "stdout"
        },
        {
          "output_type": "display_data",
          "data": {
            "image/png": "[encoded data removed]",
            "text/plain": [
              "<Figure size 432x288 with 4 Axes>"
            ]
          },
          "metadata": {
            "tags": [],
            "needs_background": "light"
          }
        }
      ]
    },
    {
      "cell_type": "markdown",
      "metadata": {
        "id": "zdQVDvCi7JvE",
        "colab_type": "text"
      },
      "source": [
        "## Extract Histogram-of-Oriented Gradient feature\n",
        "\n",
        "The following utility function can be used to extract Histogram-of-gradients features for both train and test datasets."
      ]
    },
    {
      "cell_type": "code",
      "metadata": {
        "id": "jYlVT3eNrOFw",
        "colab_type": "code",
        "colab": {}
      },
      "source": [
        "def getHOG(X_train, y_train):\n",
        "    # initialize the data matrix and labels\n",
        "    print(\"Extracting features from training dataset...\")\n",
        "    hog_train = []\n",
        "    hog_labels_train = []\n",
        "\n",
        "    # loop over the training images\n",
        "    for img_index in range(len(X_train)):\n",
        "        # load the image, and extract HOG features\n",
        "        image = (X_train[img_index])\n",
        "        #gray = cv2.cvtColor(image, cv2.COLOR_BGR2GRAY)\n",
        "        H = feature.hog(image, orientations=9, pixels_per_cell=(10, 10),\n",
        "                        cells_per_block=(2, 2), transform_sqrt=True, block_norm=\"L2-Hys\")\n",
        "        \n",
        "        # update the data and labels\n",
        "        hog_train.append(H)\n",
        "        hog_labels_train.append(y_train[img_index])\n",
        "\n",
        "    return hog_train, hog_labels_train"
      ],
      "execution_count": 0,
      "outputs": []
    },
    {
      "cell_type": "markdown",
      "metadata": {
        "id": "hSfbeNjY6_7G",
        "colab_type": "text"
      },
      "source": [
        "## Extract Local Binary Patterns feature\n",
        "The following utility function can be used to extract Local Binary pattern features for both train and test datasets."
      ]
    },
    {
      "cell_type": "code",
      "metadata": {
        "id": "CFp7tfC78b_j",
        "colab_type": "code",
        "colab": {}
      },
      "source": [
        "from skimage import feature\n",
        "import numpy as np\n",
        "import cv2\n",
        "\n",
        "# Get LBP features for the dataset\n",
        "class LocalBinaryPatterns:\n",
        "\tdef __init__(self, numPoints, radius):\n",
        "\t\t# store the number of points and radius\n",
        "\t\tself.numPoints = numPoints\n",
        "\t\tself.radius = radius\n",
        " \n",
        "\tdef LBPfeatures(self, image, eps=1e-7):\n",
        "\t\t# compute the Local Binary Pattern representation\n",
        "\t\t# of the image, and then use the LBP representation\n",
        "\t\t# to build the histogram of patterns\n",
        "\t\tlbp = feature.local_binary_pattern(image, self.numPoints,\n",
        "\t\t\tself.radius, method=\"uniform\")\n",
        "        # Form the histogram\n",
        "\t\t(hist, _) = np.histogram(lbp.ravel(),\n",
        "\t\t\tbins=np.arange(0, self.numPoints + 3),\n",
        "\t\t\trange=(0, self.numPoints + 2))\n",
        " \n",
        "\t\t# normalize the histogram\n",
        "\t\thist = hist.astype(\"float\")\n",
        "\t\thist /= (hist.sum() + eps)\n",
        " \n",
        "\t\t# return the histogram of Local Binary Patterns\n",
        "\t\treturn hist\n",
        "\n",
        "def getLBPFeatures(X_train, y_train):\n",
        "    # Create an object of LocalBinaryPatterns class and initial the parameters.\n",
        "    desc = LocalBinaryPatterns(24, 8)\n",
        "    lbp_train = []\n",
        "    lbp_labels_train = []\n",
        "\n",
        "    # loop over the training images\n",
        "    for img_index in range(len(X_train)):\n",
        "        # load the image, convert it to grayscale, and extract LBP features\n",
        "        image = (X_train[img_index])\n",
        "        hist = desc.LBPfeatures(image)\n",
        "    \n",
        "        # extract the label from the image path, then update the\n",
        "        # label and data lists\n",
        "        lbp_labels_train.append(y_train[img_index])\n",
        "        lbp_train.append(hist)\n",
        "            \n",
        "    return lbp_train, lbp_labels_train"
      ],
      "execution_count": 0,
      "outputs": []
    },
    {
      "cell_type": "markdown",
      "metadata": {
        "id": "wyyrpvgZADOg",
        "colab_type": "text"
      },
      "source": [
        "# SVM"
      ]
    },
    {
      "cell_type": "markdown",
      "metadata": {
        "id": "9MWhFY2Lt527",
        "colab_type": "text"
      },
      "source": [
        "## SVM fitted on LBP features"
      ]
    },
    {
      "cell_type": "code",
      "metadata": {
        "id": "4Go5eot_FNkl",
        "colab_type": "code",
        "colab": {
          "base_uri": "https://localhost:8080/",
          "height": 102
        },
        "outputId": "57c9b7c7-9ac0-49b5-e87a-c5ce983271b9"
      },
      "source": [
        "from sklearn.svm import LinearSVC\n",
        "X_train, y_train, X_test, y_test = loadData(net=False)\n",
        "\n",
        "lbp_train, lbp_labels_train, = getLBPFeatures(X_train, y_train)\n",
        "\n",
        "model = LinearSVC(C=10, random_state=42, max_iter=1000)\n",
        "model.fit(lbp_train, lbp_labels_train)\n",
        "\n",
        "# Check the training accuray\n",
        "print(\"Train set Accuracy: {:.2f}\".format(model.score(lbp_train, lbp_labels_train)))\n"
      ],
      "execution_count": 10,
      "outputs": [
        {
          "output_type": "stream",
          "text": [
            "Train dataset after reshaping:(60000, 28, 28)\n",
            "Test dataset after reshaping :(10000, 28, 28)\n",
            "(60000, 26)\n",
            "(60000,)\n",
            "Train set Accuracy: 0.45\n"
          ],
          "name": "stdout"
        }
      ]
    },
    {
      "cell_type": "markdown",
      "metadata": {
        "id": "9LGi7NWH4z8t",
        "colab_type": "text"
      },
      "source": [
        "## Evaluate SVM-LBP performance"
      ]
    },
    {
      "cell_type": "code",
      "metadata": {
        "id": "Aihj0plF-0Pj",
        "colab_type": "code",
        "colab": {
          "base_uri": "https://localhost:8080/",
          "height": 34
        },
        "outputId": "dc1899a6-2a31-48e0-b92e-2a3fd9d8fd05"
      },
      "source": [
        "desc = LocalBinaryPatterns(24, 8)\n",
        "predictions=[]\n",
        "predict_label=[]\n",
        "\n",
        "# Exract LBP features for each test sample and classify it with the trained SVM classifier\n",
        "for i in range(len(X_test)):\n",
        "  image = X_test[i]\n",
        "  # Extract LBP feature\n",
        "  histo = desc.LBPfeatures(image)\n",
        "  # Perform classification\n",
        "  prediction = model.predict(histo.reshape(1, -1))\n",
        "  # Store the classfication result\n",
        "  predictions.append(prediction)\n",
        "  predict_label.append(y_test[i])\n",
        "\n",
        "\n",
        "accuracy = metrics.accuracy_score(y_test, predictions)\n",
        "print(\"Accuracy on test dataset: \" + str(accuracy))"
      ],
      "execution_count": 11,
      "outputs": [
        {
          "output_type": "stream",
          "text": [
            "Accuracy on test dataset: 0.4567\n"
          ],
          "name": "stdout"
        }
      ]
    },
    {
      "cell_type": "markdown",
      "metadata": {
        "id": "fh_AMyadt-_b",
        "colab_type": "text"
      },
      "source": [
        "## SVM fitted on HOG features"
      ]
    },
    {
      "cell_type": "code",
      "metadata": {
        "id": "IF9Z7OW1uGNi",
        "colab_type": "code",
        "colab": {
          "base_uri": "https://localhost:8080/",
          "height": 85
        },
        "outputId": "03b92c2e-0457-45c3-fc46-7d9ebb7f941e"
      },
      "source": [
        "X_train, y_train, X_test, y_test = loadData(net=False)\n",
        "\n",
        "hog_train, hog_labels_train = getHOG(X_train, y_train)\n",
        "\n",
        "model = svm.SVC(kernel='rbf', C=100.0, random_state=42)\n",
        "model.fit(hog_train, hog_labels_train)\n",
        "\n",
        "print(\"Train set Accuracy: {:.2f}\".format(model.score(hog_train, hog_labels_train)))"
      ],
      "execution_count": 12,
      "outputs": [
        {
          "output_type": "stream",
          "text": [
            "Train dataset after reshaping:(60000, 28, 28)\n",
            "Test dataset after reshaping :(10000, 28, 28)\n",
            "Extracting features from training dataset...\n",
            "Train set Accuracy: 0.99\n"
          ],
          "name": "stdout"
        }
      ]
    },
    {
      "cell_type": "markdown",
      "metadata": {
        "id": "J6FuKBwZDSen",
        "colab_type": "text"
      },
      "source": [
        "## Evaluate SVM-HOG performance"
      ]
    },
    {
      "cell_type": "markdown",
      "metadata": {
        "id": "oj4gE8Q1NODW",
        "colab_type": "text"
      },
      "source": [
        "### Confusion Matrix"
      ]
    },
    {
      "cell_type": "code",
      "metadata": {
        "id": "uawT59yRBBml",
        "colab_type": "code",
        "colab": {
          "base_uri": "https://localhost:8080/",
          "height": 560
        },
        "outputId": "9764063f-c537-4040-a98d-cc69ae30ba67"
      },
      "source": [
        "# Initialize the data matrix and labels\n",
        "print(\"Extracting features from test dataset...\")\n",
        "predict_test = []\n",
        "hog_labels_test = []\n",
        "hog_test=[]\n",
        "\n",
        "# loop over the test images\n",
        "for img_ind in range(len(X_test)):\n",
        "  # load the image, and extract HOG features\n",
        "  img=X_test[img_ind]\n",
        "  H = feature.hog(img, orientations=9, pixels_per_cell=(10, 10),\n",
        "                  cells_per_block=(2, 2), transform_sqrt=True, block_norm=\"L2-Hys\")\n",
        "  pred = model.predict(H.reshape(1, -1))[0]\n",
        "  # update the data and labels\n",
        "  predict_test.append(pred)\n",
        "  hog_test.append(H)\n",
        "  hog_labels_test.append(y_test[img_ind])\n",
        "\n",
        "# Test set Accuracy\n",
        "accuracy = metrics.accuracy_score(y_test, predict_test)\n",
        "print(\"Accuracy on test dataset:\",accuracy)\n",
        "\n",
        "# Plot the confusion matrix\n",
        "cm  = metrics.confusion_matrix(y_test, predict_test)\n",
        "\n",
        "COLOR = 'white'\n",
        "plt.rcParams['text.color'] = COLOR\n",
        "plt.rcParams['axes.labelcolor'] = COLOR\n",
        "plt.rcParams['xtick.color'] = COLOR\n",
        "plt.rcParams['ytick.color'] = COLOR\n",
        "\n",
        "plt.figure(figsize=(9,9))\n",
        "sns.heatmap(cm, annot=True, fmt=\".3f\", linewidths=.5, square = True, cmap = 'Blues_r');\n",
        "plt.ylabel('Actual label');\n",
        "plt.xlabel('Predicted label');\n",
        "all_sample_title = 'Accuracy Score: {0}'.format(accuracy)\n",
        "plt.title(all_sample_title, size = 15);"
      ],
      "execution_count": 13,
      "outputs": [
        {
          "output_type": "stream",
          "text": [
            "Extracting features from test dataset...\n",
            "Accuracy on test dataset: 0.9095\n"
          ],
          "name": "stdout"
        },
        {
          "output_type": "display_data",
          "data": {
            "image/png": "[encoded data removed]",
            "text/plain": [
              "<Figure size 648x648 with 2 Axes>"
            ]
          },
          "metadata": {
            "tags": [],
            "needs_background": "dark"
          }
        }
      ]
    },
    {
      "cell_type": "markdown",
      "metadata": {
        "id": "phc6N8vmAA89",
        "colab_type": "text"
      },
      "source": [
        "# KNN"
      ]
    },
    {
      "cell_type": "markdown",
      "metadata": {
        "id": "1uPvzNR86sO4",
        "colab_type": "text"
      },
      "source": [
        "## KNN fitted on LBP features"
      ]
    },
    {
      "cell_type": "code",
      "metadata": {
        "id": "CDQGz4Dt62k4",
        "colab_type": "code",
        "colab": {
          "base_uri": "https://localhost:8080/",
          "height": 187
        },
        "outputId": "26fca1d6-91c2-49ab-eb5e-01ada6f48abf"
      },
      "source": [
        "from sklearn.neighbors import KNeighborsClassifier\n",
        "X_train, y_train, X_test, y_test = loadData(net=False)\n",
        "\n",
        "lbp_train, lbp_labels_train = getLBPFeatures(X_train, y_train)\n",
        "lbp_test, lbp_labels_test = getLBPFeatures(X_test, y_test)\n",
        "\n",
        "k_vals = [1,2,5,15,30]\n",
        "accuracies = []\n",
        "\n",
        "for k in k_vals:\n",
        "    model = KNeighborsClassifier(n_neighbors=k)\n",
        "    model.fit(lbp_train, lbp_labels_train)\n",
        "\n",
        "    # evaluate the model and update the accuracies list\n",
        "    score = model.score(lbp_test, lbp_labels_test)\n",
        "    print(\"k=%d, accuracy=%.2f%%\" % (k, score * 100))\n",
        "    accuracies.append(score)\n",
        "\n",
        "# find the most optimal value of k\n",
        "i = int(np.argmax(accuracies))\n",
        "print(\"k=%d achieved highest accuracy of %.2f%% on validation data\" % (k_vals[i],\n",
        "\taccuracies[i] * 100))"
      ],
      "execution_count": 14,
      "outputs": [
        {
          "output_type": "stream",
          "text": [
            "Train dataset after reshaping:(60000, 28, 28)\n",
            "Test dataset after reshaping :(10000, 28, 28)\n",
            "k=1, accuracy=40.92%\n",
            "k=2, accuracy=40.61%\n",
            "k=5, accuracy=45.63%\n",
            "k=15, accuracy=48.61%\n",
            "k=30, accuracy=49.90%\n",
            "k=60, accuracy=49.19%\n",
            "k=100, accuracy=48.86%\n",
            "k=30 achieved highest accuracy of 49.90% on validation data\n"
          ],
          "name": "stdout"
        }
      ]
    },
    {
      "cell_type": "markdown",
      "metadata": {
        "id": "-OuXlLri6yrp",
        "colab_type": "text"
      },
      "source": [
        "## KNN fitted on HOG features"
      ]
    },
    {
      "cell_type": "code",
      "metadata": {
        "id": "fhIeaoLtJPjr",
        "colab_type": "code",
        "colab": {
          "base_uri": "https://localhost:8080/",
          "height": 204
        },
        "outputId": "ba4952d9-07b2-48d9-f0b9-d5be3cc5d516"
      },
      "source": [
        "X_train, y_train, X_test, y_test = loadData(net=False)\n",
        "\n",
        "hog_train, hog_labels_train = getHOG(X_train, y_train)\n",
        "hog_test, hog_labels_test = getHOG(X_test, y_test)\n",
        "\n",
        "k_vals = [1,2,5,15,30,50]\n",
        "accuracies = []\n",
        "\n",
        "for k in k_vals:\n",
        "    model = KNeighborsClassifier(n_neighbors=k)\n",
        "    model.fit(hog_train, hog_labels_train)\n",
        "\n",
        "    # evaluate the model and update the accuracies list\n",
        "    score = model.score(hog_test, hog_labels_test)\n",
        "    print(\"k=%d, accuracy=%.2f%%\" % (k, score * 100))\n",
        "    accuracies.append(score)\n",
        "\n",
        "# find the most optimal value of k\n",
        "i = int(np.argmax(accuracies))\n",
        "print(\"k=%d achieved highest accuracy of %.2f%% on validation data\" % (k_vals[i],\n",
        "\taccuracies[i] * 100))"
      ],
      "execution_count": 24,
      "outputs": [
        {
          "output_type": "stream",
          "text": [
            "Train dataset after reshaping:(60000, 28, 28)\n",
            "Test dataset after reshaping :(10000, 28, 28)\n",
            "Extracting features from training dataset...\n",
            "Extracting features from training dataset...\n",
            "k=1, accuracy=84.21%\n",
            "k=2, accuracy=84.78%\n",
            "k=5, accuracy=87.60%\n",
            "k=15, accuracy=87.92%\n",
            "k=30, accuracy=87.65%\n",
            "k=50, accuracy=87.08%\n",
            "k=15 achieved highest accuracy of 87.92% on validation data\n"
          ],
          "name": "stdout"
        }
      ]
    },
    {
      "cell_type": "markdown",
      "metadata": {
        "id": "OdHLwLdEaQhk",
        "colab_type": "text"
      },
      "source": [
        "# CNN"
      ]
    },
    {
      "cell_type": "markdown",
      "metadata": {
        "id": "U9Ei-VuQsNju",
        "colab_type": "text"
      },
      "source": [
        "## Preprocess Data\n",
        "\n",
        "* Normalise RGB values by dividing by 255.0\n",
        "* OneHotEncode (1-of-K) label classes\n"
      ]
    },
    {
      "cell_type": "code",
      "metadata": {
        "id": "WNDkUXn0b0w5",
        "colab_type": "code",
        "colab": {}
      },
      "source": [
        "import tensorflow as tf\n",
        "def oneHotEncode(y, num_classes):\n",
        "    y = tf.keras.utils.to_categorical(y, num_classes=num_classes)\n",
        "\n",
        "    return y\n",
        "\n",
        "def preprocessNetData():\n",
        "    X_train, y_train, X_test, y_test = loadData(net=True)\n",
        "\n",
        "    # Cast data to floats for floating point division\n",
        "    X_train = X_train.astype('float32')\n",
        "    X_test = X_test.astype('float32')\n",
        "    print(X_train.shape[0], 'train samples')\n",
        "    print(X_test.shape[0], 'test samples')\n",
        "\n",
        "    X_train = X_train / 255.0\n",
        "    X_test = X_test / 255.0\n",
        "\n",
        "    y_test_nonencoded = y_test \n",
        "\n",
        "    y_train = oneHotEncode(y_train, 10)\n",
        "    y_test = oneHotEncode(y_test, 10)\n",
        "\n",
        "    return X_train, y_train, X_test, y_test, y_test_nonencoded\n"
      ],
      "execution_count": 0,
      "outputs": []
    },
    {
      "cell_type": "markdown",
      "metadata": {
        "id": "PvHNHo34_eN6",
        "colab_type": "text"
      },
      "source": [
        "## Convolutional Neural Network Architecture"
      ]
    },
    {
      "cell_type": "code",
      "metadata": {
        "id": "IO_5nzF5Lhqz",
        "colab_type": "code",
        "colab": {}
      },
      "source": [
        "import tensorflow as tf \n",
        "\n",
        "def CNN(use_sgd=False):\n",
        "    model = tf.keras.models.Sequential([\n",
        "    tf.keras.layers.Conv2D(32, kernel_size=3, activation='relu', input_shape=(28,28,1)),\n",
        "    tf.keras.layers.BatchNormalization(),\n",
        "    tf.keras.layers.Conv2D(32, kernel_size=3, activation='relu'),\n",
        "    tf.keras.layers.BatchNormalization(),\n",
        "    tf.keras.layers.Conv2D(32, kernel_size=5, strides=2, padding='same', activation='relu'),\n",
        "    tf.keras.layers.BatchNormalization(),\n",
        "    tf.keras.layers.Dropout(0.4),\n",
        "\n",
        "    tf.keras.layers.Conv2D(64, kernel_size=3, activation='relu'),\n",
        "    tf.keras.layers.BatchNormalization(),\n",
        "    tf.keras.layers.Conv2D(64, kernel_size=3, activation='relu'),\n",
        "    tf.keras.layers.BatchNormalization(),\n",
        "    tf.keras.layers.Conv2D(64, kernel_size=5, strides=2, padding='same', activation='relu'),\n",
        "    tf.keras.layers.BatchNormalization(),\n",
        "    tf.keras.layers.Dropout(0.4),\n",
        "\n",
        "\n",
        "    tf.keras.layers.Conv2D(128, kernel_size=4, activation='relu'),\n",
        "    tf.keras.layers.BatchNormalization(),\n",
        "    tf.keras.layers.Flatten(),\n",
        "    tf.keras.layers.Dropout(0.4),\n",
        "    tf.keras.layers.Dense(10, activation='softmax')\n",
        "    ])\n",
        "\n",
        "    loss_fn = tf.keras.losses.CategoricalCrossentropy(from_logits=True)\n",
        "\n",
        "    if use_sgd == True:\n",
        "        sgd = tf.keras.optimizers.SGD(lr=0.01, momentum=0.9)\n",
        "        \n",
        "        model.compile(optimizer=sgd,\n",
        "            loss=loss_fn,\n",
        "            metrics=['accuracy'])\n",
        "    else:\n",
        "\n",
        "        model.compile(optimizer='adam',\n",
        "                    loss=loss_fn,\n",
        "                    metrics=['accuracy'])\n",
        "    model.summary()\n",
        "\n",
        "    return model"
      ],
      "execution_count": 0,
      "outputs": []
    },
    {
      "cell_type": "markdown",
      "metadata": {
        "id": "6dK6L2qOyZu4",
        "colab_type": "text"
      },
      "source": [
        "## Augment manipulated image data & fit to CNN model\n",
        "The data generator will apply a plethora of manipulations to the images including rotation, zooming, width and heigh shifting with varying degrees of intensity.\n",
        "This will add variance to the dataset and allow for more robust classification. By using the Tensorflow data generator, these transformations are applied on the fly in batches during training to reduce memory overhead in exchange for a longer training time."
      ]
    },
    {
      "cell_type": "code",
      "metadata": {
        "id": "tPd4epmGxqYV",
        "colab_type": "code",
        "colab": {
          "base_uri": "https://localhost:8080/",
          "height": 462
        },
        "outputId": "0acfbd3d-5f50-4d12-f834-733c88645b9b"
      },
      "source": [
        "X_train, y_train, X_test, y_test, y_test_nonencoded = preprocessNetData()\n",
        "    \n",
        "datagen = tf.keras.preprocessing.image.ImageDataGenerator(\n",
        "        rotation_range=10,  \n",
        "        zoom_range = 0.10,  \n",
        "        width_shift_range=0.1, \n",
        "        height_shift_range=0.1)\n",
        "\n",
        "datagen.fit(X_train)\n",
        "train_generator = datagen.flow(X_train, y_train, batch_size=64, seed=42)\n",
        "\n",
        "batch_size = 64\n",
        "epochs = 100\n",
        "steps_per_epoch = X_train.shape[0]/64\n",
        "\n",
        "model = CNN(use_sgd=True)\n",
        "\n",
        "# LR schedule - reduce learning rate on loss plateau\n",
        "reduce_lr = tf.keras.callbacks.ReduceLROnPlateau(monitor='val_loss', factor=0.2, patience=4, min_lr=0.001)\n",
        "\n",
        "callbacks = [PlotLossesKerasTF(), reduce_lr, tf.keras.callbacks.EarlyStopping(monitor='val_accuracy', patience=5)]\n",
        "\n",
        "hist = model.fit_generator(train_generator, epochs=epochs, steps_per_epoch=steps_per_epoch, verbose=1, validation_data=(X_test, y_test), shuffle=True,\n",
        "                           callbacks=callbacks)\n",
        "\n",
        "# Evaluate model performance using validation data\n",
        "print(\"Final loss: {0:.4f}, final accuracy: {1:.4f}\".format(\n",
        "    hist.history['val_loss'][-1],\n",
        "    hist.history['val_accuracy'][-1]\n",
        "))"
      ],
      "execution_count": 26,
      "outputs": [
        {
          "output_type": "display_data",
          "data": {
            "image/png": "[encoded data removed]",
            "text/plain": [
              "<Figure size 864x576 with 2 Axes>"
            ]
          },
          "metadata": {
            "tags": [],
            "needs_background": "dark"
          }
        },
        {
          "output_type": "stream",
          "text": [
            "accuracy\n",
            "\ttraining         \t (min:    0.845, max:    0.987, cur:    0.986)\n",
            "\tvalidation       \t (min:    0.983, max:    0.996, cur:    0.994)\n",
            "Loss\n",
            "\ttraining         \t (min:    1.475, max:    1.632, cur:    1.476)\n",
            "\tvalidation       \t (min:    1.465, max:    1.481, cur:    1.467)\n",
            "\b\b\b\b\b\b\b\b\b\b\b\b\b\b\b\b\b\b\b\b\b\b\b\b\b\b\b\b\b\b\b\b\b\b\b\b\b\b\b\b\b\b\b\b\b\b\b\b\b\b\b\b\b\b\b\b\b\b\b\b\b\b\b\b\b\b\b\b\b\b\b\b\b\b\b\b\b\b\b\b\b\b\b\b\r938/937 [==============================] - 17s 18ms/step - loss: 1.4757 - accuracy: 0.9864 - val_loss: 1.4665 - val_accuracy: 0.9944 - lr: 0.0100\n",
            "Final loss: 1.4665, final accuracy: 0.9944\n"
          ],
          "name": "stdout"
        }
      ]
    },
    {
      "cell_type": "markdown",
      "metadata": {
        "id": "hN_KkkXu_oUd",
        "colab_type": "text"
      },
      "source": [
        "## Evaluate trained model on validation data"
      ]
    },
    {
      "cell_type": "code",
      "metadata": {
        "id": "icTh_q7gVE56",
        "colab_type": "code",
        "outputId": "012d5972-db33-4f66-de19-f9d016de9fc6",
        "colab": {
          "base_uri": "https://localhost:8080/",
          "height": 784
        }
      },
      "source": [
        "# Make a prediction using trained CNN model\n",
        "y_pred = model.predict_classes(X_test)\n",
        "\n",
        "# Show the first 5 test labels and predicted outputs\n",
        "for i in range(10):\n",
        "\tprint(\"Original Label= %s, Predicted Label= %s\" % (np.argmax(y_test[i],axis=-1), y_pred[i]))\n",
        " \n",
        "# Test set Accuracy\n",
        "accuracy = metrics.accuracy_score(y_test_nonencoded, y_pred)\n",
        "print(\"Accuracy on test dataset: \",accuracy)\n",
        "\n",
        "# Plot the confusion matrix\n",
        "cm  = metrics.confusion_matrix(y_test_nonencoded, y_pred)\n",
        "\n",
        "COLOR = 'white'\n",
        "plt.rcParams['text.color'] = COLOR\n",
        "plt.rcParams['axes.labelcolor'] = COLOR\n",
        "plt.rcParams['xtick.color'] = COLOR\n",
        "plt.rcParams['ytick.color'] = COLOR\n",
        "\n",
        "plt.figure(figsize=(9,9))\n",
        "sns.heatmap(cm, annot=True, fmt=\".3f\", linewidths=.5, square = True, cmap = 'Blues_r');\n",
        "plt.ylabel('Actual label');\n",
        "plt.xlabel('Predicted label');\n",
        "all_sample_title = 'Accuracy Score: {0}'.format(accuracy)\n",
        "plt.title(all_sample_title, size = 15);"
      ],
      "execution_count": 19,
      "outputs": [
        {
          "output_type": "stream",
          "text": [
            "WARNING:tensorflow:From <ipython-input-19-a6ed57320aa9>:1: Sequential.predict_classes (from tensorflow.python.keras.engine.sequential) is deprecated and will be removed after 2021-01-01.\n",
            "Instructions for updating:\n",
            "Please use instead:* `np.argmax(model.predict(x), axis=-1)`,   if your model does multi-class classification   (e.g. if it uses a `softmax` last-layer activation).* `(model.predict(x) > 0.5).astype(\"int32\")`,   if your model does binary classification   (e.g. if it uses a `sigmoid` last-layer activation).\n",
            "Original Label= 7, Predicted Label= 7\n",
            "Original Label= 2, Predicted Label= 2\n",
            "Original Label= 1, Predicted Label= 1\n",
            "Original Label= 0, Predicted Label= 0\n",
            "Original Label= 4, Predicted Label= 4\n",
            "Original Label= 1, Predicted Label= 1\n",
            "Original Label= 4, Predicted Label= 4\n",
            "Original Label= 9, Predicted Label= 9\n",
            "Original Label= 5, Predicted Label= 5\n",
            "Original Label= 9, Predicted Label= 9\n",
            "Accuracy on test dataset:  0.9959\n"
          ],
          "name": "stdout"
        },
        {
          "output_type": "display_data",
          "data": {
            "image/png": "[encoded data removed]",
            "text/plain": [
              "<Figure size 648x648 with 2 Axes>"
            ]
          },
          "metadata": {
            "tags": [],
            "needs_background": "dark"
          }
        }
      ]
    },
    {
      "cell_type": "markdown",
      "metadata": {
        "id": "nI39qdkeTnou",
        "colab_type": "text"
      },
      "source": [
        "# Results & Discussion"
      ]
    },
    {
      "cell_type": "markdown",
      "metadata": {
        "id": "K4ZU_9hNSjYh",
        "colab_type": "text"
      },
      "source": [
        "## Performance comparison of all classifier combinations used\n",
        "\n",
        "> '       | SVM    | kNN    | CNN\n",
        ">     --- | ---    | ---    | ---\n",
        ">LBP      | 45.7%  | 49.9%  | NA\n",
        ">HOG      | 99.0%  | 87.92% | NA\n",
        ">Raw Data | NA     | NA     | 99.59%"
      ]
    }
  ]
}